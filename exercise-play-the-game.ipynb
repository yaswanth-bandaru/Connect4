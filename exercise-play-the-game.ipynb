{
 "cells": [
  {
   "cell_type": "markdown",
   "metadata": {},
   "source": [
    "**This notebook is an exercise in the [Intro to Game AI and Reinforcement Learning](https://www.kaggle.com/learn/intro-to-game-ai-and-reinforcement-learning) course.  You can reference the tutorial at [this link](https://www.kaggle.com/alexisbcook/play-the-game).**\n",
    "\n",
    "---\n"
   ]
  },
  {
   "cell_type": "markdown",
   "metadata": {},
   "source": [
    "# Introduction\n",
    "\n",
    "You have seen how to define a random agent.  In this exercise, you'll make a few improvements.\n",
    "\n",
    "To get started, run the code cell below to set up our feedback system."
   ]
  },
  {
   "cell_type": "code",
   "execution_count": 1,
   "metadata": {},
   "outputs": [],
   "source": [
    "from learntools.core import binder\n",
    "binder.bind(globals())\n",
    "from learntools.game_ai.ex1 import *"
   ]
  },
  {
   "cell_type": "markdown",
   "metadata": {},
   "source": [
    "### 1) A smarter agent\n",
    "\n",
    "We can improve the performance without devising a complicated strategy, simply by selecting a winning move, if one is available.\n",
    "\n",
    "In this exercise, you will create an agent that:\n",
    "- selects the winning move, if it is available.  (_If there is more than one move that lets the agent win the game, the agent can select any of them._)\n",
    "- Otherwise, it should select a random move.\n",
    "\n",
    "To help you with this goal, we provide some helper functions in the code cell below. "
   ]
  },
  {
   "cell_type": "code",
   "execution_count": 2,
   "metadata": {},
   "outputs": [],
   "source": [
    "import numpy as np\n",
    "\n",
    "# Gets board at next step if agent drops piece in selected column\n",
    "def drop_piece(grid, col, piece, config):\n",
    "    next_grid = grid.copy()\n",
    "    for row in range(config.rows-1, -1, -1):\n",
    "        if next_grid[row][col] == 0:\n",
    "            break\n",
    "    next_grid[row][col] = piece\n",
    "    return next_grid\n",
    "\n",
    "# Returns True if dropping piece in column results in game win\n",
    "def check_winning_move(obs, config, col, piece):\n",
    "    # Convert the board to a 2D grid\n",
    "    grid = np.asarray(obs.board).reshape(config.rows, config.columns)\n",
    "    next_grid = drop_piece(grid, col, piece, config)\n",
    "    # horizontal\n",
    "    for row in range(config.rows):\n",
    "        for col in range(config.columns-(config.inarow-1)):\n",
    "            window = list(next_grid[row,col:col+config.inarow])\n",
    "            if window.count(piece) == config.inarow:\n",
    "                return True\n",
    "    # vertical\n",
    "    for row in range(config.rows-(config.inarow-1)):\n",
    "        for col in range(config.columns):\n",
    "            window = list(next_grid[row:row+config.inarow,col])\n",
    "            if window.count(piece) == config.inarow:\n",
    "                return True\n",
    "    # positive diagonal\n",
    "    for row in range(config.rows-(config.inarow-1)):\n",
    "        for col in range(config.columns-(config.inarow-1)):\n",
    "            window = list(next_grid[range(row, row+config.inarow), range(col, col+config.inarow)])\n",
    "            if window.count(piece) == config.inarow:\n",
    "                return True\n",
    "    # negative diagonal\n",
    "    for row in range(config.inarow-1, config.rows):\n",
    "        for col in range(config.columns-(config.inarow-1)):\n",
    "            window = list(next_grid[range(row, row-config.inarow, -1), range(col, col+config.inarow)])\n",
    "            if window.count(piece) == config.inarow:\n",
    "                return True\n",
    "    return False"
   ]
  },
  {
   "cell_type": "markdown",
   "metadata": {},
   "source": [
    "The `check_winning_move()` function takes four required arguments: the first two (`obs` and `config`) should be familiar, and: \n",
    "- `col` is any valid move \n",
    "- `piece` is either the agent's mark or the mark of its opponent.  \n",
    "\n",
    "The function returns `True` if dropping the piece in the provided column wins the game (for either the agent or its opponent), and otherwise returns `False`.  To check if the agent can win in the next move, you should set `piece=obs.mark`.\n",
    "\n",
    "**To complete this exercise, you need to define `agent_q1()` in the code cell below.  To do this, you're encouraged to use the `check_winning_move()` function.**  \n",
    "\n",
    "The `drop_piece()` function (defined in the code cell above) is called in the `check_winning_move()` function.  Feel free to examine the details, but you won't need a detailed understanding to solve the exercise."
   ]
  },
  {
   "cell_type": "code",
   "execution_count": 5,
   "metadata": {},
   "outputs": [
    {
     "data": {
      "application/javascript": [
       "parent.postMessage({\"jupyterEvent\": \"custom.exercise_interaction\", \"data\": {\"outcomeType\": 1, \"valueTowardsCompletion\": 0.2, \"interactionType\": 1, \"questionType\": 2, \"questionId\": \"1_SelectWinning\", \"learnToolsVersion\": \"0.3.4\", \"failureMessage\": \"\", \"exceptionClass\": \"\", \"trace\": \"\"}}, \"*\")"
      ],
      "text/plain": [
       "<IPython.core.display.Javascript object>"
      ]
     },
     "metadata": {},
     "output_type": "display_data"
    },
    {
     "data": {
      "text/markdown": [
       "<span style=\"color:#33cc33\">Correct</span>"
      ],
      "text/plain": [
       "Correct"
      ]
     },
     "metadata": {},
     "output_type": "display_data"
    }
   ],
   "source": [
    "import random\n",
    "\n",
    "def agent_q1(obs, config):\n",
    "    valid_moves = [col for col in range(config.columns) if obs.board[col] == 0]\n",
    "    for i in valid_moves:\n",
    "        if check_winning_move(obs, config, i, obs.mark):\n",
    "            return i\n",
    "    return random.choice(valid_moves)\n",
    "    \n",
    "# Check your answer\n",
    "q_1.check()"
   ]
  },
  {
   "cell_type": "markdown",
   "metadata": {},
   "source": [
    "### 2) An even smarter agent\n",
    "\n",
    "In the previous question, you created an agent that selects winning moves.  In this problem, you'll amend the code to create an agent that can also block its opponent from winning.  In particular, your agent should:\n",
    "- Select a winning move, if one is available.\n",
    "- Otherwise, it selects a move to block the opponent from winning, if the opponent has a move that it can play in its next turn to win the game. \n",
    "- If neither the agent nor the opponent can win in their next moves, the agent selects a random move.\n",
    "\n",
    "To help you with this exercise, you are encouraged to start with the agent from the previous exercise.  \n",
    "\n",
    "**To check if the opponent has a winning move, you can use the `check_winning_move()` function, but you'll need to supply a different value for the `piece` argument.**  "
   ]
  },
  {
   "cell_type": "code",
   "execution_count": 8,
   "metadata": {},
   "outputs": [
    {
     "data": {
      "application/javascript": [
       "parent.postMessage({\"jupyterEvent\": \"custom.exercise_interaction\", \"data\": {\"outcomeType\": 1, \"valueTowardsCompletion\": 0.2, \"interactionType\": 1, \"questionType\": 2, \"questionId\": \"2_BlockOpponent\", \"learnToolsVersion\": \"0.3.4\", \"failureMessage\": \"\", \"exceptionClass\": \"\", \"trace\": \"\"}}, \"*\")"
      ],
      "text/plain": [
       "<IPython.core.display.Javascript object>"
      ]
     },
     "metadata": {},
     "output_type": "display_data"
    },
    {
     "data": {
      "text/markdown": [
       "<span style=\"color:#33cc33\">Correct</span>"
      ],
      "text/plain": [
       "Correct"
      ]
     },
     "metadata": {},
     "output_type": "display_data"
    }
   ],
   "source": [
    "def agent_q2(obs, config):\n",
    "    valid_moves = [col for col in range(config.columns) if obs.board[col] == 0]\n",
    "    for i in valid_moves:\n",
    "        if check_winning_move(obs, config, i, obs.mark):\n",
    "            return i\n",
    "    for j in valid_moves:\n",
    "        if check_winning_move(obs, config, j, obs.mark%2+1):\n",
    "            return j\n",
    "    return random.choice(valid_moves)\n",
    "\n",
    "# Check your answer\n",
    "q_2.check()"
   ]
  },
  {
   "cell_type": "markdown",
   "metadata": {},
   "source": [
    "### 3) Looking ahead\n",
    "\n",
    "So far, you have encoded an agent that always selects the winning move, if it's available.  And, it can also block the opponent from winning.\n",
    "\n",
    "You might expect that this agent should perform quite well!  But how is it still possible that it can still lose the game?"
   ]
  },
  {
   "cell_type": "markdown",
   "metadata": {},
   "source": [
    "## The agent can still lose the game, if\n",
    "\n",
    "### The opponent has set up the board so that it can win in the next move by dropping a disc in any of 2 or more columns, or\n",
    "### The only move that is available to the agent is one where, once played, the opponent can win in the next move."
   ]
  },
  {
   "cell_type": "markdown",
   "metadata": {},
   "source": [
    "### 4) Play against an agent\n",
    "\n",
    "Amend the `my_agent()` function below to create your own agent.  Feel free to copy an agent that you created above.  \n",
    "\n",
    "Note that you'll have to include all of the necessary imports and helper functions.  For an example of how this would look with the first agent you created in the exercise, take a look at **[this notebook](https://www.kaggle.com/alexisbcook/create-a-connectx-agent)**."
   ]
  },
  {
   "cell_type": "code",
   "execution_count": 12,
   "metadata": {},
   "outputs": [],
   "source": [
    "def my_agent(obs, config):\n",
    "    import numpy as np\n",
    "\n",
    "    # Gets board at next step if agent drops piece in selected column\n",
    "    def drop_piece(grid, col, piece, config):\n",
    "        next_grid = grid.copy()\n",
    "        for row in range(config.rows-1, -1, -1):\n",
    "            if next_grid[row][col] == 0:\n",
    "                break\n",
    "        next_grid[row][col] = piece\n",
    "        return next_grid\n",
    "\n",
    "    # Returns True if dropping piece in column results in game win\n",
    "    def check_winning_move(obs, config, col, piece):\n",
    "        # Convert the board to a 2D grid\n",
    "        grid = np.asarray(obs.board).reshape(config.rows, config.columns)\n",
    "        next_grid = drop_piece(grid, col, piece, config)\n",
    "        # horizontal\n",
    "        for row in range(config.rows):\n",
    "            for col in range(config.columns-(config.inarow-1)):\n",
    "                window = list(next_grid[row,col:col+config.inarow])\n",
    "                if window.count(piece) == config.inarow:\n",
    "                    return True\n",
    "        # vertical\n",
    "        for row in range(config.rows-(config.inarow-1)):\n",
    "            for col in range(config.columns):\n",
    "                window = list(next_grid[row:row+config.inarow,col])\n",
    "                if window.count(piece) == config.inarow:\n",
    "                    return True\n",
    "        # positive diagonal\n",
    "        for row in range(config.rows-(config.inarow-1)):\n",
    "            for col in range(config.columns-(config.inarow-1)):\n",
    "                window = list(next_grid[range(row, row+config.inarow), range(col, col+config.inarow)])\n",
    "                if window.count(piece) == config.inarow:\n",
    "                    return True\n",
    "        # negative diagonal\n",
    "        for row in range(config.inarow-1, config.rows):\n",
    "            for col in range(config.columns-(config.inarow-1)):\n",
    "                window = list(next_grid[range(row, row-config.inarow, -1), range(col, col+config.inarow)])\n",
    "                if window.count(piece) == config.inarow:\n",
    "                    return True\n",
    "        return False\n",
    "    import random\n",
    "    valid_moves = [col for col in range(config.columns) if obs.board[col] == 0]\n",
    "    for move in valid_moves:\n",
    "        if check_winning_move(obs, config, move, obs.mark): return move\n",
    "    for move in valid_moves:\n",
    "        if check_winning_move(obs, config, move, obs.mark%2+1): return move\n",
    "    return random.choice(valid_moves)"
   ]
  },
  {
   "cell_type": "code",
   "execution_count": 13,
   "metadata": {},
   "outputs": [
    {
     "data": {
      "application/javascript": [
       "parent.postMessage({\"jupyterEvent\": \"custom.exercise_interaction\", \"data\": {\"outcomeType\": 1, \"valueTowardsCompletion\": 0.2, \"interactionType\": 1, \"questionType\": 2, \"questionId\": \"4_CreateAgentEx1\", \"learnToolsVersion\": \"0.3.4\", \"failureMessage\": \"\", \"exceptionClass\": \"\", \"trace\": \"\"}}, \"*\")"
      ],
      "text/plain": [
       "<IPython.core.display.Javascript object>"
      ]
     },
     "metadata": {},
     "output_type": "display_data"
    },
    {
     "data": {
      "text/markdown": [
       "<span style=\"color:#33cc33\">Thank you for creating an agent!</span>"
      ],
      "text/plain": [
       "Thank you for creating an agent!"
      ]
     },
     "metadata": {},
     "output_type": "display_data"
    }
   ],
   "source": [
    "# Run this code cell to get credit for creating an agent\n",
    "q_4.check()"
   ]
  },
  {
   "cell_type": "markdown",
   "metadata": {},
   "source": [
    "Run the next code cell to play a game round against the agent.  To select a move, click on the game screen in the column where you'd like to place a disc.\n",
    "\n",
    "After the game finishes, you can re-run the code cell to play again!"
   ]
  },
  {
   "cell_type": "code",
   "execution_count": 1,
   "metadata": {},
   "outputs": [],
   "source": [
    "from kaggle_environments import evaluate, make, utils\n",
    "\n",
    "env = make(\"connectx\", debug=True)\n",
    "env.play([my_agent, None], width=500, height=450)"
   ]
  },
  {
   "cell_type": "markdown",
   "metadata": {},
   "source": [
    "### 5) Submit to the competition\n",
    "\n",
    "Now, it's time to make your first submission to the competition!  Run the next code cell to write your agent to a submission file."
   ]
  },
  {
   "cell_type": "code",
   "execution_count": 15,
   "metadata": {},
   "outputs": [
    {
     "name": "stdout",
     "output_type": "stream",
     "text": [
      "<function my_agent at 0x7fb84a80dc20> written to submission.py\n"
     ]
    },
    {
     "data": {
      "application/javascript": [
       "parent.postMessage({\"jupyterEvent\": \"custom.exercise_interaction\", \"data\": {\"outcomeType\": 1, \"valueTowardsCompletion\": 0.2, \"interactionType\": 1, \"questionType\": 2, \"questionId\": \"5_SubmissionEx1\", \"learnToolsVersion\": \"0.3.4\", \"failureMessage\": \"\", \"exceptionClass\": \"\", \"trace\": \"\"}}, \"*\")"
      ],
      "text/plain": [
       "<IPython.core.display.Javascript object>"
      ]
     },
     "metadata": {},
     "output_type": "display_data"
    },
    {
     "data": {
      "text/markdown": [
       "<span style=\"color:#33cc33\">Thank you for creating a submission file!</span>"
      ],
      "text/plain": [
       "Thank you for creating a submission file!"
      ]
     },
     "metadata": {},
     "output_type": "display_data"
    }
   ],
   "source": [
    "import inspect\n",
    "import os\n",
    "\n",
    "def write_agent_to_file(function, file):\n",
    "    with open(file, \"a\" if os.path.exists(file) else \"w\") as f:\n",
    "        f.write(inspect.getsource(function))\n",
    "        print(function, \"written to\", file)\n",
    "\n",
    "write_agent_to_file(my_agent, \"submission.py\")\n",
    "\n",
    "# Check that submission file was created\n",
    "q_5.check()"
   ]
  },
  {
   "cell_type": "markdown",
   "metadata": {},
   "source": [
    "Then, follow these steps:\n",
    "1. Begin by clicking on the blue **Save Version** button in the top right corner of the window.  This will generate a pop-up window.  \n",
    "2. Ensure that the **Save and Run All** option is selected, and then click on the blue **Save** button.\n",
    "3. This generates a window in the bottom left corner of the notebook.  After it has finished running, click on the number to the right of the **Save Version** button.  This pulls up a list of versions on the right of the screen.  Click on the ellipsis **(...)** to the right of the most recent version, and select **Open in Viewer**.  This brings you into view mode of the same page. You will need to scroll down to get back to these instructions.\n",
    "4. Click on the **Output** tab on the right of the screen.  Then, click on the blue **Submit** button to submit your results to the leaderboard.\n",
    "\n",
    "You have now successfully submitted to the competition!\n",
    "\n",
    "If you want to keep working to improve your performance, select the blue **Edit** button in the top right of the screen. Then you can change your code and repeat the process. There's a lot of room to improve, and you will climb up the leaderboard as you work.\n",
    "\n",
    "\n",
    "Go to **\"My Submissions\"** to view your score and episodes being played."
   ]
  },
  {
   "cell_type": "markdown",
   "metadata": {},
   "source": [
    "# Keep going\n",
    "\n",
    "Learn how to **[use heuristics](https://www.kaggle.com/alexisbcook/one-step-lookahead)** to improve your agent."
   ]
  },
  {
   "cell_type": "markdown",
   "metadata": {},
   "source": [
    "---\n",
    "\n",
    "\n",
    "\n",
    "\n",
    "*Have questions or comments? Visit the [Learn Discussion forum](https://www.kaggle.com/learn-forum/161477) to chat with other Learners.*"
   ]
  }
 ],
 "metadata": {
  "kernelspec": {
   "display_name": "Python 3",
   "language": "python",
   "name": "python3"
  },
  "language_info": {
   "codemirror_mode": {
    "name": "ipython",
    "version": 3
   },
   "file_extension": ".py",
   "mimetype": "text/x-python",
   "name": "python",
   "nbconvert_exporter": "python",
   "pygments_lexer": "ipython3",
   "version": "3.8.5"
  }
 },
 "nbformat": 4,
 "nbformat_minor": 4
}
